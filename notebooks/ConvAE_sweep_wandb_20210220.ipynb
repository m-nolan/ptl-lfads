{
 "metadata": {
  "language_info": {
   "codemirror_mode": {
    "name": "ipython",
    "version": 3
   },
   "file_extension": ".py",
   "mimetype": "text/x-python",
   "name": "python",
   "nbconvert_exporter": "python",
   "pygments_lexer": "ipython3",
   "version": "3.7.6-final"
  },
  "orig_nbformat": 2,
  "kernelspec": {
   "name": "python3",
   "display_name": "Python 3.7.6 64-bit ('ecog_is2s': conda)",
   "metadata": {
    "interpreter": {
     "hash": "fe8054fe0736511d0a995e424bd42fab5ba13013efdf79ed2907f82c79967e8d"
    }
   }
  }
 },
 "nbformat": 4,
 "nbformat_minor": 2,
 "cells": [
  {
   "cell_type": "code",
   "execution_count": null,
   "metadata": {},
   "outputs": [],
   "source": [
    "import ecog_data\n",
    "import prediction\n",
    "\n",
    "import torch\n",
    "\n",
    "import wandb\n",
    "import pytorch_lightning as pl\n",
    "from pytorch_lightning.loggers import WandbLogger"
   ]
  },
  {
   "cell_type": "code",
   "execution_count": null,
   "metadata": {},
   "outputs": [],
   "source": [
    "sweep_config    = {\n",
    "    'method': \"random\",\n",
    "    'metric': {\n",
    "        'name': 'avg_valid_loss',\n",
    "        'goal': 'minimize'\n",
    "    },\n",
    "    'early_terminate': {\n",
    "        'type': 'hyperband',\n",
    "        'min_iter': 10\n",
    "    },\n",
    "    'parameters': {\n",
    "        'latent_size': {\n",
    "            'values': [2, 4, 8, 16, 32]\n",
    "        },\n",
    "        'n_kernels': {\n",
    "            'values': [2, 4, 8, 16]\n",
    "        },\n",
    "        'kernel_size': {\n",
    "            'values': [3, 7, 15]\n",
    "        },\n",
    "        'learning_rate': {\n",
    "            'values': [1e-3, 5e-4, 1e-4, 5e-5]\n",
    "        },\n",
    "        'src_len': {\n",
    "            'values': [50]\n",
    "        },\n",
    "        'trg_len': {\n",
    "            'values': [50]\n",
    "        },\n",
    "        'batch_size': {\n",
    "            'values': [4000]\n",
    "        },\n",
    "        'pool_size': {\n",
    "            'values': [2],\n",
    "        },\n",
    "        'dropout': {\n",
    "            'values': [0.1, 0.2, 0.3]\n",
    "        },\n",
    "    }\n",
    "}"
   ]
  },
  {
   "cell_type": "code",
   "execution_count": null,
   "metadata": {},
   "outputs": [],
   "source": [
    "name        = 'ecog_ConvAE-sweep_test'\n",
    "project     = 'ecog-ConvAE-sweep'\n",
    "sweep_id = wandb.sweep(sweep_config, project=project)"
   ]
  },
  {
   "cell_type": "code",
   "execution_count": null,
   "metadata": {},
   "outputs": [],
   "source": [
    "def sweep_iteration():\n",
    "    # wandb session\n",
    "    wandb.init()\n",
    "    wandb_logger = WandbLogger()\n",
    "\n",
    "    # LightningDataModule\n",
    "    data = ecog_data.GooseWireless250(\n",
    "        wandb.config.src_len,\n",
    "        wandb.config.trg_len,\n",
    "        wandb.config.batch_size\n",
    "    ) # heads-up, this should be broken down into separate arguments.\n",
    "\n",
    "    # model\n",
    "    model = prediction.ConvAE(\n",
    "        input_size      = data.dims[-1],\n",
    "        latent_size     = wandb.config.latent_size,\n",
    "        src_len         = data.src_len,\n",
    "        trg_len         = data.trg_len,\n",
    "        n_kernels       = wandb.config.n_kernels,\n",
    "        kernel_size     = wandb.config.kernel_size,\n",
    "        pool_size       = wandb.config.pool_size,\n",
    "        dropout         = wandb.config.dropout,\n",
    "        learning_rate   = wandb.config.learning_rate\n",
    "    )\n",
    "\n",
    "    # trainer\n",
    "    trainer = pl.Trainer(\n",
    "        logger = wandb_logger,\n",
    "        max_epochs = 2000,\n",
    "        gpus = -1\n",
    "    )\n",
    "\n",
    "    # train on parameterization\n",
    "    trainer.fit(model, data)"
   ]
  },
  {
   "cell_type": "code",
   "execution_count": null,
   "metadata": {
    "tags": [
     "outputPrepend"
    ]
   },
   "outputs": [],
   "source": [
    "wandb.agent(sweep_id, function=sweep_iteration)"
   ]
  }
 ]
}