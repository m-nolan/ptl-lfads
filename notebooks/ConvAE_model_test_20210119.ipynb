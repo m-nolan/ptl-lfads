{
 "metadata": {
  "language_info": {
   "codemirror_mode": {
    "name": "ipython",
    "version": 3
   },
   "file_extension": ".py",
   "mimetype": "text/x-python",
   "name": "python",
   "nbconvert_exporter": "python",
   "pygments_lexer": "ipython3",
   "version": "3.7.6-final"
  },
  "orig_nbformat": 2,
  "kernelspec": {
   "name": "python3",
   "display_name": "Python 3",
   "language": "python"
  }
 },
 "nbformat": 4,
 "nbformat_minor": 2,
 "cells": [
  {
   "cell_type": "code",
   "execution_count": null,
   "metadata": {},
   "outputs": [],
   "source": [
    "import ecog_data\n",
    "import prediction\n",
    "\n",
    "import torch\n",
    "\n",
    "import wandb\n",
    "import pytorch_lightning as pl\n",
    "from pytorch_lightning.loggers import WandbLogger"
   ]
  },
  {
   "cell_type": "code",
   "execution_count": null,
   "metadata": {},
   "outputs": [],
   "source": [
    "config_dict     = {\n",
    "    'src_len': 50,\n",
    "    'trg_len': 50,\n",
    "    'batch_size': 1000,\n",
    "    'latent_size': 10,\n",
    "    'n_kernels': 10,\n",
    "    'kernel_size': 9,\n",
    "    'pool_size': 2,\n",
    "    'dropout': 0.2,\n",
    "    'learning_rate': 1e-3,\n",
    "}"
   ]
  },
  {
   "cell_type": "code",
   "execution_count": null,
   "metadata": {},
   "outputs": [],
   "source": [
    "name        = 'ecog_conv_ae_test_run'\n",
    "project     = 'ecog-ConvAE-test'\n",
    "wandb.init(\n",
    "    config  = config_dict,\n",
    "    name    = name,\n",
    "    project = project\n",
    ")\n",
    "wandb_logger = WandbLogger(name=name,project=project)"
   ]
  },
  {
   "cell_type": "code",
   "execution_count": null,
   "metadata": {},
   "outputs": [],
   "source": [
    "data    = ecog_data.GooseWireless250(\n",
    "    src_len     = wandb.config.src_len,\n",
    "    trg_len     = wandb.config.trg_len,\n",
    "    batch_size  = wandb.config.batch_size\n",
    ")"
   ]
  },
  {
   "cell_type": "code",
   "execution_count": null,
   "metadata": {},
   "outputs": [],
   "source": [
    "model   = prediction.ConvAE(\n",
    "    input_size      = data.dims[-1],\n",
    "    latent_size     = wandb.config.latent_size,\n",
    "    src_len         = data.src_len,\n",
    "    trg_len         = data.trg_len,\n",
    "    n_kernels       = wandb.config.n_kernels,\n",
    "    kernel_size     = wandb.config.kernel_size,\n",
    "    pool_size       = wandb.config.pool_size,\n",
    "    dropout         = wandb.config.dropout,\n",
    "    learning_rate   = wandb.config.learning_rate\n",
    ")"
   ]
  },
  {
   "cell_type": "code",
   "execution_count": null,
   "metadata": {},
   "outputs": [],
   "source": [
    "ckpt_cb = pl.callbacks.ModelCheckpoint(\n",
    "    monitor         = 'avg_valid_loss',\n",
    "    dirpath         = '.\\\\models\\\\ConvAE',\n",
    "    filename        = 'conv_ae-{epoch:03d}-{val_loss:.3f}'\n",
    ")\n",
    "trainer = pl.Trainer(max_epochs=100, \n",
    "                    logger = wandb_logger, \n",
    "                    gpus=1)"
   ]
  },
  {
   "cell_type": "code",
   "execution_count": null,
   "metadata": {
    "tags": [
     "outputPrepend"
    ]
   },
   "outputs": [],
   "source": [
    "trainer.fit(model,data)"
   ]
  }
 ]
}