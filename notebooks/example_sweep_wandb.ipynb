{
 "metadata": {
  "language_info": {
   "codemirror_mode": {
    "name": "ipython",
    "version": 3
   },
   "file_extension": ".py",
   "mimetype": "text/x-python",
   "name": "python",
   "nbconvert_exporter": "python",
   "pygments_lexer": "ipython3",
   "version": "3.7.6-final"
  },
  "orig_nbformat": 2,
  "kernelspec": {
   "name": "python3",
   "display_name": "Python 3",
   "language": "python"
  }
 },
 "nbformat": 4,
 "nbformat_minor": 2,
 "cells": [
  {
   "source": [
    "# Example WandB/ptl sweep"
   ],
   "cell_type": "markdown",
   "metadata": {}
  },
  {
   "cell_type": "code",
   "execution_count": 1,
   "metadata": {},
   "outputs": [],
   "source": [
    "import prediction\n",
    "import ecog_data\n",
    "\n",
    "import wandb\n",
    "import pytorch_lightning as ptl\n",
    "from pytorch_lightning.loggers import WandbLogger\n",
    "import torch"
   ]
  },
  {
   "cell_type": "code",
   "execution_count": null,
   "metadata": {},
   "outputs": [],
   "source": [
    "sweep_config = { # replace this with a *.yaml file!\n",
    "  \"method\": \"random\",   # Random search\n",
    "  \"metric\": {           # We want to maximize val_acc\n",
    "      \"name\": \"valid_acc\",\n",
    "      \"goal\": \"maximize\"\n",
    "  },\n",
    "  \"parameters\": {\n",
    "        \"n_layer_1\": {\n",
    "            # Choose from pre-defined values\n",
    "            \"values\": [32, 64, 128, 256, 512]\n",
    "        },\n",
    "        \"n_layer_2\": {\n",
    "            # Choose from pre-defined values\n",
    "            \"values\": [32, 64, 128, 256, 512, 1024]\n",
    "        },\n",
    "        \"lr\": {\n",
    "            # log uniform distribution between exp(min) and exp(max)\n",
    "            \"distribution\": \"log_uniform\",\n",
    "            \"min\": -9.21,   # exp(-9.21) = 1e-4\n",
    "            \"max\": -4.61    # exp(-4.61) = 1e-2\n",
    "        }\n",
    "    }\n",
    "}"
   ]
  },
  {
   "cell_type": "code",
   "execution_count": null,
   "metadata": {},
   "outputs": [],
   "source": [
    "sweep_id = wandb.sweep(sweep_config, project=\"MNIST\")"
   ]
  },
  {
   "cell_type": "code",
   "execution_count": 2,
   "metadata": {},
   "outputs": [],
   "source": [
    "def sweep_iteration():\n",
    "    # wandb session\n",
    "    wandb.init()\n",
    "    wandb_logger = WandbLogger()\n",
    "\n",
    "    # LightningDataModule\n",
    "    gw250 = ecog_data.GooseWireless250(\n",
    "        wandb.config.src_len,\n",
    "        wandb.config.trg_len,\n",
    "        wandb.config.batch_size\n",
    "    ) # heads-up, this should be broken down into separate arguments.\n",
    "\n",
    "    # model\n",
    "    model = prediction.EcogPredictionModel(wandb.config)\n",
    "\n",
    "    # trainer\n",
    "    trainer = ptl.Trainer(\n",
    "        logger = wandb_logger,\n",
    "        max_epochs = 2000,\n",
    "        gpus = -1\n",
    "    )\n",
    "\n",
    "    # train on parameterization\n",
    "    trainer.fit(model, gw250)"
   ]
  },
  {
   "cell_type": "code",
   "execution_count": null,
   "metadata": {},
   "outputs": [],
   "source": [
    "wandb.agent(sweep_id, function=sweep_iteration)"
   ]
  }
 ]
}