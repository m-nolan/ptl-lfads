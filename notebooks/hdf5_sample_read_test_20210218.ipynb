{
 "metadata": {
  "language_info": {
   "codemirror_mode": {
    "name": "ipython",
    "version": 3
   },
   "file_extension": ".py",
   "mimetype": "text/x-python",
   "name": "python",
   "nbconvert_exporter": "python",
   "pygments_lexer": "ipython3",
   "version": "3.7.6-final"
  },
  "orig_nbformat": 2,
  "kernelspec": {
   "name": "python3",
   "display_name": "Python 3",
   "language": "python"
  }
 },
 "nbformat": 4,
 "nbformat_minor": 2,
 "cells": [
  {
   "cell_type": "code",
   "execution_count": null,
   "metadata": {},
   "outputs": [],
   "source": [
    "import h5py\n",
    "import os\n",
    "import random"
   ]
  },
  {
   "cell_type": "code",
   "execution_count": null,
   "metadata": {},
   "outputs": [],
   "source": [
    "dataset_file_path = \"D:\\\\Users\\\\mickey\\\\Data\\\\datasets\\\\ecog\\\\goose_wireless\\\\gw_250\"\n",
    "assert os.path.exists(dataset_file_path), \"File doesn't exists, correct the path string\""
   ]
  },
  {
   "source": [
    "test: how quickly can I draw individual samples from an hdf5 record?"
   ],
   "cell_type": "markdown",
   "metadata": {}
  },
  {
   "cell_type": "code",
   "execution_count": null,
   "metadata": {},
   "outputs": [],
   "source": [
    "%%timeit\n",
    "idx = random.randint(0,1000)\n",
    "with h5py.File(dataset_file_path,'r') as hf:\n",
    "    asdf = hf['train_ecog'][idx,:,:]"
   ]
  },
  {
   "source": [
    "Result: I can draw individual samples VERY quickly. How about when I index along multiple dimensions?"
   ],
   "cell_type": "markdown",
   "metadata": {}
  },
  {
   "cell_type": "code",
   "execution_count": null,
   "metadata": {},
   "outputs": [],
   "source": [
    "%%timeit\n",
    "idx = random.randint(0,1000)\n",
    "src_len = 50\n",
    "with h5py.File(dataset_file_path,'r') as hf:\n",
    "    asdf = hf['train_ecog'][idx,:src_len,:]"
   ]
  },
  {
   "source": [
    "Result: this is no slower. I should just be using this from now on.\n",
    "\n",
    "One more check: what if we keep this \"IO stream\" open? How well does that work?"
   ],
   "cell_type": "markdown",
   "metadata": {}
  },
  {
   "cell_type": "code",
   "execution_count": null,
   "metadata": {},
   "outputs": [],
   "source": [
    "hf = h5py.File(dataset_file_path,'r')"
   ]
  },
  {
   "cell_type": "code",
   "execution_count": null,
   "metadata": {},
   "outputs": [],
   "source": [
    "%%timeit\n",
    "idx = random.randint(0,1000)\n",
    "src_len = 50\n",
    "asdf = hf['train_ecog'][idx,:src_len,:]"
   ]
  },
  {
   "cell_type": "code",
   "execution_count": null,
   "metadata": {},
   "outputs": [],
   "source": [
    "hf.close()"
   ]
  },
  {
   "source": [
    "Result: This appears to be even faster. If I do this, I'll have to think of a slick way to close the file interface when the run terminates."
   ],
   "cell_type": "markdown",
   "metadata": {}
  }
 ]
}